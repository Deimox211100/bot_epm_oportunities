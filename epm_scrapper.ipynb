{
 "cells": [
  {
   "cell_type": "markdown",
   "id": "c3d3743b",
   "metadata": {},
   "source": [
    "# EPM Opened Processes Scrapper"
   ]
  },
  {
   "cell_type": "markdown",
   "id": "de50c5a0",
   "metadata": {},
   "source": [
    "This scrapper get the code of the opened procceses in the EPM webpage"
   ]
  },
  {
   "cell_type": "markdown",
   "id": "ea0e9af6",
   "metadata": {},
   "source": [
    "## Import required libraries"
   ]
  },
  {
   "cell_type": "code",
   "execution_count": 2,
   "id": "d7978cb9",
   "metadata": {},
   "outputs": [],
   "source": [
    "import re\n",
    "import time\n",
    "import pandas as pd\n",
    "from datetime import datetime\n",
    "from selenium import webdriver\n",
    "from selenium.webdriver.common.by import By\n"
   ]
  },
  {
   "cell_type": "markdown",
   "id": "ba907ea1",
   "metadata": {},
   "source": [
    "## Start process"
   ]
  },
  {
   "cell_type": "markdown",
   "id": "40bb2e00",
   "metadata": {},
   "source": [
    "### Start chrome browser"
   ]
  },
  {
   "cell_type": "code",
   "execution_count": 3,
   "id": "31955fdc",
   "metadata": {},
   "outputs": [],
   "source": [
    "driver = webdriver.Chrome()\n"
   ]
  },
  {
   "cell_type": "markdown",
   "id": "8b6de96d",
   "metadata": {},
   "source": [
    "### Turn chrome in Maximize windows"
   ]
  },
  {
   "cell_type": "code",
   "execution_count": 4,
   "id": "1df9d018",
   "metadata": {},
   "outputs": [],
   "source": [
    "driver.maximize_window()"
   ]
  },
  {
   "cell_type": "markdown",
   "id": "1297f5ac",
   "metadata": {},
   "source": [
    "### Get EPM webpage"
   ]
  },
  {
   "cell_type": "code",
   "execution_count": 5,
   "id": "38c87105",
   "metadata": {},
   "outputs": [],
   "source": [
    "driver.get('https://portalesepm.epm.com.co/TeCuento/ProcesosComprasMenoresVigentes/ConsultarProcesosCompras.aspx')"
   ]
  },
  {
   "cell_type": "markdown",
   "id": "c1c5222e",
   "metadata": {},
   "source": [
    "### Accept conditions and into processes page"
   ]
  },
  {
   "cell_type": "markdown",
   "id": "6e216153",
   "metadata": {},
   "source": [
    "Find accept button"
   ]
  },
  {
   "cell_type": "code",
   "execution_count": 6,
   "id": "601a83f9",
   "metadata": {},
   "outputs": [],
   "source": [
    "aceptar= driver.find_element(by=By.XPATH, value='''//*[@id=\"ctl00_ContentPlaceHolderContenido_ChkCondicionesCOntractuales\"]''')"
   ]
  },
  {
   "cell_type": "markdown",
   "id": "16d6fa20",
   "metadata": {},
   "source": [
    "If find the button, click on it"
   ]
  },
  {
   "cell_type": "code",
   "execution_count": 7,
   "id": "6d963d44",
   "metadata": {},
   "outputs": [],
   "source": [
    "aceptar.click()"
   ]
  },
  {
   "cell_type": "markdown",
   "id": "793858a0",
   "metadata": {},
   "source": [
    "Click into accept button in emergent window"
   ]
  },
  {
   "cell_type": "code",
   "execution_count": 8,
   "id": "cafcfcbc",
   "metadata": {},
   "outputs": [],
   "source": [
    "driver.find_element(by=By.XPATH, value='''//*[@id=\"ctl00_ContentPlaceHolderContenido_btnAceptar\"]''').click()"
   ]
  },
  {
   "cell_type": "markdown",
   "id": "bd4a013e",
   "metadata": {},
   "source": [
    "Wait until the page's load"
   ]
  },
  {
   "cell_type": "code",
   "execution_count": 9,
   "id": "45775cc4",
   "metadata": {},
   "outputs": [],
   "source": [
    "time.sleep(1)"
   ]
  },
  {
   "cell_type": "markdown",
   "id": "51297274",
   "metadata": {},
   "source": [
    "### Get the processes table"
   ]
  },
  {
   "cell_type": "markdown",
   "id": "999de20f",
   "metadata": {},
   "source": [
    "Click on query button"
   ]
  },
  {
   "cell_type": "code",
   "execution_count": 10,
   "id": "10da8765",
   "metadata": {},
   "outputs": [],
   "source": [
    "driver.find_element(by=By.XPATH, value='''//*[@id=\"ctl00_ContentPlaceHolderContenido_btnConsultar\"]''').click()"
   ]
  },
  {
   "cell_type": "markdown",
   "id": "3eca9065",
   "metadata": {},
   "source": [
    "Wait until the table load"
   ]
  },
  {
   "cell_type": "code",
   "execution_count": 11,
   "id": "f3bef2f9",
   "metadata": {},
   "outputs": [],
   "source": [
    "time.sleep(5)"
   ]
  },
  {
   "cell_type": "markdown",
   "id": "ca039378",
   "metadata": {},
   "source": [
    "### Get the page numbers of the table"
   ]
  },
  {
   "cell_type": "markdown",
   "id": "9f663eb6",
   "metadata": {},
   "source": [
    "Find the pages table"
   ]
  },
  {
   "cell_type": "code",
   "execution_count": 12,
   "id": "e9189ce9",
   "metadata": {},
   "outputs": [],
   "source": [
    "numero_pagina = driver.find_elements(by=By.XPATH, value='''//*[@id=\"ctl00_ContentPlaceHolderContenido_gvListadoProcesosNoAutenticado\"]/tbody/tr[12]/td/table/tbody/tr/td''')"
   ]
  },
  {
   "cell_type": "markdown",
   "id": "34a2a40e",
   "metadata": {},
   "source": [
    "List the pages numbers"
   ]
  },
  {
   "cell_type": "code",
   "execution_count": 13,
   "id": "e51b8900",
   "metadata": {},
   "outputs": [],
   "source": [
    "paginas = list(dict.fromkeys([beten.text.strip() for beten in numero_pagina if beten.text.strip().isdigit()]))"
   ]
  },
  {
   "cell_type": "markdown",
   "id": "493fa072",
   "metadata": {},
   "source": [
    "### Iterate each page and each row of the table to get the data"
   ]
  },
  {
   "cell_type": "code",
   "execution_count": 14,
   "id": "96f1e778",
   "metadata": {},
   "outputs": [],
   "source": [
    "tabla_completa = [] # Empty list to store all data\n",
    "for numero in paginas: # Iterate through each page number\n",
    "    for boton in driver.find_elements(by=By.XPATH, value='''//*[@id=\"ctl00_ContentPlaceHolderContenido_gvListadoProcesosNoAutenticado\"]/tbody/tr[12]/td/table/tbody/tr/td'''):\n",
    "        if boton.text.strip() == numero: # Check if the button text matches the page number\n",
    "            boton.click() # Click the button\n",
    "            break # Break the loop after clicking the button\n",
    "        \n",
    "    time.sleep(2) # Wait for the page to load\n",
    "\n",
    "    # Extract the table data\n",
    "    filas = driver.find_elements(by=By.XPATH, value='''//*[@id=\"ctl00_ContentPlaceHolderContenido_gvListadoProcesosNoAutenticado\"]/tbody''') # traer informacion de la tabla grande \n",
    "    \n",
    "    for fila in filas: # Iterate through each row\n",
    "        celdas = fila.find_elements(by=By.TAG_NAME, value='tr') # Find all table rows\n",
    "        celdas = [celda for celda in celdas if not celda.get_attribute('class') and not celda.get_attribute('style')] # Filter out unwanted rows\n",
    "        for celda in celdas: # Iterate through each cell\n",
    "            datas = celda.find_elements(by=By.TAG_NAME, value='td') # Find all table data cells\n",
    "            rows = [] # Initialize an empty list to store the row data\n",
    "            for data in datas: # Iterate through each data cell\n",
    "                rows.append(data.text) # Append the text of each data cell to the rows list\n",
    "            tabla_completa.append(rows) # Append the row data to the complete table list"
   ]
  },
  {
   "cell_type": "code",
   "execution_count": 24,
   "id": "6bf9f98d",
   "metadata": {},
   "outputs": [],
   "source": [
    "driver.quit() # Close the browser"
   ]
  },
  {
   "cell_type": "markdown",
   "id": "67dd6264",
   "metadata": {},
   "source": [
    "### Create pandas Dataframe from extracted data"
   ]
  },
  {
   "cell_type": "markdown",
   "id": "ed4e322e",
   "metadata": {},
   "source": [
    "Convert list with extracted data to a pandas dataframe"
   ]
  },
  {
   "cell_type": "code",
   "execution_count": 15,
   "id": "e2d94ed0",
   "metadata": {},
   "outputs": [],
   "source": [
    "df = pd.DataFrame(tabla_completa)"
   ]
  },
  {
   "cell_type": "markdown",
   "id": "b375ef10",
   "metadata": {},
   "source": [
    "Assing a name for each column"
   ]
  },
  {
   "cell_type": "code",
   "execution_count": 16,
   "id": "08a7832a",
   "metadata": {},
   "outputs": [],
   "source": [
    "df.columns = ['NO_PROCESO', 'EMPRESA', 'OBJETO_CONTRATACION', 'CATEGORIA', 'FECHA_APERTURA', 'HORA_APERTURA', 'FECHA_CIERRE', 'HORA_CIERRE']"
   ]
  },
  {
   "cell_type": "markdown",
   "id": "a7d5934f",
   "metadata": {},
   "source": [
    "Delete unnecessary columns"
   ]
  },
  {
   "cell_type": "code",
   "execution_count": 17,
   "id": "3ecb56b8",
   "metadata": {},
   "outputs": [],
   "source": [
    "df.drop(columns=['HORA_CIERRE', 'HORA_APERTURA'], inplace=True)"
   ]
  },
  {
   "cell_type": "markdown",
   "id": "c6cfe65a",
   "metadata": {},
   "source": [
    "Filter rows to get only the real data"
   ]
  },
  {
   "cell_type": "code",
   "execution_count": 18,
   "id": "999c76f3",
   "metadata": {},
   "outputs": [],
   "source": [
    "df = df[df['NO_PROCESO'].str.lower().str.startswith('cm')]"
   ]
  },
  {
   "cell_type": "markdown",
   "id": "241513b8",
   "metadata": {},
   "source": [
    "Create a list with the keywords"
   ]
  },
  {
   "cell_type": "code",
   "execution_count": 19,
   "id": "d058c372",
   "metadata": {},
   "outputs": [],
   "source": [
    "key_words = ['caja', 'linux', 'servidor']"
   ]
  },
  {
   "cell_type": "markdown",
   "id": "f2b5fff9",
   "metadata": {},
   "source": [
    "Filter data by the keywords"
   ]
  },
  {
   "cell_type": "code",
   "execution_count": 20,
   "id": "da71b08f",
   "metadata": {},
   "outputs": [],
   "source": [
    "pattern = '|'.join(map(re.escape, key_words))  # Escapa caracteres especiales\n",
    "df = df[df['OBJETO_CONTRATACION'].str.lower().str.contains(pattern, na=False)]"
   ]
  },
  {
   "cell_type": "markdown",
   "id": "2936ee7a",
   "metadata": {},
   "source": [
    "Create a column with the current date"
   ]
  },
  {
   "cell_type": "code",
   "execution_count": 21,
   "id": "2d350aa2",
   "metadata": {},
   "outputs": [],
   "source": [
    "df['FECHA_CONSULTA'] = datetime.now().strftime('%Y-%m-%d')"
   ]
  },
  {
   "cell_type": "markdown",
   "id": "405198f8",
   "metadata": {},
   "source": [
    "Organice columns"
   ]
  },
  {
   "cell_type": "code",
   "execution_count": 22,
   "id": "6e00d819",
   "metadata": {},
   "outputs": [],
   "source": [
    "df = df.reindex(columns=['FECHA_CONSULTA', 'NO_PROCESO', 'EMPRESA', 'OBJETO_CONTRATACION', 'CATEGORIA', 'FECHA_APERTURA', 'FECHA_CIERRE'])"
   ]
  },
  {
   "cell_type": "markdown",
   "id": "55887bea",
   "metadata": {},
   "source": [
    "Export data to a CSV file"
   ]
  },
  {
   "cell_type": "code",
   "execution_count": 23,
   "id": "e67af48c",
   "metadata": {},
   "outputs": [],
   "source": [
    "df.to_csv(f'''data/PROCESOS_EPM_{datetime.now().strftime('%Y-%m-%d')}.csv''', sep=';', index= False)"
   ]
  }
 ],
 "metadata": {
  "kernelspec": {
   "display_name": "Python 3",
   "language": "python",
   "name": "python3"
  },
  "language_info": {
   "codemirror_mode": {
    "name": "ipython",
    "version": 3
   },
   "file_extension": ".py",
   "mimetype": "text/x-python",
   "name": "python",
   "nbconvert_exporter": "python",
   "pygments_lexer": "ipython3",
   "version": "3.9.6"
  }
 },
 "nbformat": 4,
 "nbformat_minor": 5
}
